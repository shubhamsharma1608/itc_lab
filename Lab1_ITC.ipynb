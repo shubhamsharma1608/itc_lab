{
  "nbformat": 4,
  "nbformat_minor": 0,
  "metadata": {
    "colab": {
      "name": "Lab1_ITC.ipynb",
      "provenance": [],
      "include_colab_link": true
    },
    "kernelspec": {
      "name": "python3",
      "display_name": "Python 3"
    },
    "language_info": {
      "name": "python"
    }
  },
  "cells": [
    {
      "cell_type": "markdown",
      "metadata": {
        "id": "view-in-github",
        "colab_type": "text"
      },
      "source": [
        "<a href=\"https://colab.research.google.com/github/shubhamsharma1608/itc_lab/blob/main/Lab1_ITC.ipynb\" target=\"_parent\"><img src=\"https://colab.research.google.com/assets/colab-badge.svg\" alt=\"Open In Colab\"/></a>"
      ]
    },
    {
      "cell_type": "code",
      "metadata": {
        "id": "4-_JALhttNxS"
      },
      "source": [
        "from math import log2"
      ],
      "execution_count": null,
      "outputs": []
    },
    {
      "cell_type": "code",
      "metadata": {
        "colab": {
          "base_uri": "https://localhost:8080/"
        },
        "id": "ueum7ujwtT2B",
        "outputId": "b78fdc78-117f-43eb-b558-9da9a9fdadae"
      },
      "source": [
        "#Entropy calculations\n",
        "p = 0.6\n",
        "entropy1 = -log2(p)\n",
        "print(f'Entropy value for this event is {entropy1}')\n",
        "probs = [0.6, 0.4]\n",
        "entropy2 = -sum([p*log2(p) for p in probs])\n",
        "entropy2\n"
      ],
      "execution_count": null,
      "outputs": [
        {
          "output_type": "stream",
          "name": "stdout",
          "text": [
            "Entropy value for this event is 0.7369655941662062\n"
          ]
        },
        {
          "output_type": "execute_result",
          "data": {
            "text/plain": [
              "0.9709505944546686"
            ]
          },
          "metadata": {},
          "execution_count": 3
        }
      ]
    },
    {
      "cell_type": "code",
      "metadata": {
        "id": "3aQXXYLOu_bq"
      },
      "source": [
        "probsnew = [0.2, 0.4, 0.6, 0.8, 1.0]"
      ],
      "execution_count": null,
      "outputs": []
    },
    {
      "cell_type": "code",
      "metadata": {
        "id": "aH01pEvEv121"
      },
      "source": [
        "entropy_values = [-log2(p) for p in probsnew]"
      ],
      "execution_count": null,
      "outputs": []
    },
    {
      "cell_type": "code",
      "metadata": {
        "colab": {
          "base_uri": "https://localhost:8080/"
        },
        "id": "TkikrU4cwVkz",
        "outputId": "cec950ad-5333-4e1e-81f2-516a7ab673b8"
      },
      "source": [
        "entropy_values"
      ],
      "execution_count": null,
      "outputs": [
        {
          "output_type": "execute_result",
          "data": {
            "text/plain": [
              "[2.321928094887362,\n",
              " 1.3219280948873622,\n",
              " 0.7369655941662062,\n",
              " 0.3219280948873623,\n",
              " -0.0]"
            ]
          },
          "metadata": {},
          "execution_count": 7
        }
      ]
    },
    {
      "cell_type": "code",
      "metadata": {
        "id": "wWkUNMNVwYFm"
      },
      "source": [
        "import matplotlib.pyplot as plt\n"
      ],
      "execution_count": null,
      "outputs": []
    },
    {
      "cell_type": "code",
      "metadata": {
        "colab": {
          "base_uri": "https://localhost:8080/",
          "height": 295
        },
        "id": "6NA6C0grwdhC",
        "outputId": "c5faf8d5-bb47-470f-f88c-e9b867ea0bf8"
      },
      "source": [
        "plt.plot(probsnew, entropy_values, marker = '.')\n",
        "plt.title(\"Probability versus Entropy values\")\n",
        "plt.xlabel(\"Probability values\")\n",
        "plt.ylabel(\"entropy vlaues\")\n",
        "plt.show()\n"
      ],
      "execution_count": null,
      "outputs": [
        {
          "output_type": "display_data",
          "data": {
            "image/png": "[encoded data removed]",
            "text/plain": [
              "<Figure size 432x288 with 1 Axes>"
            ]
          },
          "metadata": {
            "needs_background": "light"
          }
        }
      ]
    },
    {
      "cell_type": "code",
      "metadata": {
        "id": "GwsrxtPiw9CK"
      },
      "source": [
        "import numpy as np\n"
      ],
      "execution_count": null,
      "outputs": []
    },
    {
      "cell_type": "code",
      "metadata": {
        "id": "9DlVP3woyeOT"
      },
      "source": [
        "p = 0.8"
      ],
      "execution_count": null,
      "outputs": []
    },
    {
      "cell_type": "code",
      "metadata": {
        "id": "gkmM2y50yghZ"
      },
      "source": [
        "entropy4 = -np.log2(p)"
      ],
      "execution_count": null,
      "outputs": []
    },
    {
      "cell_type": "code",
      "metadata": {
        "colab": {
          "base_uri": "https://localhost:8080/"
        },
        "id": "crC2M3Fgyp5H",
        "outputId": "1a56b947-76bf-4d06-8033-5f6342bdd899"
      },
      "source": [
        "entropy4"
      ],
      "execution_count": null,
      "outputs": [
        {
          "output_type": "execute_result",
          "data": {
            "text/plain": [
              "0.3219280948873623"
            ]
          },
          "metadata": {},
          "execution_count": 13
        }
      ]
    },
    {
      "cell_type": "code",
      "metadata": {
        "id": "z3Rl3v2mysZs"
      },
      "source": [
        "#Another way to compute entropy\n",
        "from scipy.stats import entropy"
      ],
      "execution_count": null,
      "outputs": []
    },
    {
      "cell_type": "code",
      "metadata": {
        "id": "t_BGJk53y1i0",
        "colab": {
          "base_uri": "https://localhost:8080/"
        },
        "outputId": "72da864e-9aaa-4254-8197-9cdc3aedb977"
      },
      "source": [
        "entropy([9/10, 1/10], base=2)"
      ],
      "execution_count": null,
      "outputs": [
        {
          "output_type": "execute_result",
          "data": {
            "text/plain": [
              "0.46899559358928117"
            ]
          },
          "metadata": {},
          "execution_count": 20
        }
      ]
    },
    {
      "cell_type": "code",
      "metadata": {
        "id": "ROVGYl54zrw3"
      },
      "source": [
        ""
      ],
      "execution_count": null,
      "outputs": []
    }
  ]
}