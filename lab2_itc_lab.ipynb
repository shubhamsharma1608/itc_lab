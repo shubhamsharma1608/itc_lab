{
  "nbformat": 4,
  "nbformat_minor": 0,
  "metadata": {
    "colab": {
      "name": "lab2_itc lab.ipynb",
      "provenance": [],
      "authorship_tag": "ABX9TyMERmcTLEV33xz4ITjMdbKk",
      "include_colab_link": true
    },
    "kernelspec": {
      "name": "python3",
      "display_name": "Python 3"
    },
    "language_info": {
      "name": "python"
    }
  },
  "cells": [
    {
      "cell_type": "markdown",
      "metadata": {
        "id": "view-in-github",
        "colab_type": "text"
      },
      "source": [
        "<a href=\"https://colab.research.google.com/github/shubhamsharma1608/itc_lab/blob/main/lab2_itc_lab.ipynb\" target=\"_parent\"><img src=\"https://colab.research.google.com/assets/colab-badge.svg\" alt=\"Open In Colab\"/></a>"
      ]
    },
    {
      "cell_type": "code",
      "metadata": {
        "id": "53JElJXgp318"
      },
      "source": [
        "import numpy as np"
      ],
      "execution_count": null,
      "outputs": []
    },
    {
      "cell_type": "code",
      "metadata": {
        "colab": {
          "base_uri": "https://localhost:8080/"
        },
        "id": "H2RG3NE7qD4f",
        "outputId": "d31f7106-2cca-4caa-9880-25c414dc1179"
      },
      "source": [
        "pip install dit"
      ],
      "execution_count": null,
      "outputs": [
        {
          "output_type": "stream",
          "name": "stdout",
          "text": [
            "Collecting dit\n",
            "  Downloading dit-1.2.3-py2.py3-none-any.whl (397 kB)\n",
            "\u001b[?25l\r\u001b[K     |▉                               | 10 kB 22.8 MB/s eta 0:00:01\r\u001b[K     |█▋                              | 20 kB 28.2 MB/s eta 0:00:01\r\u001b[K     |██▌                             | 30 kB 13.5 MB/s eta 0:00:01\r\u001b[K     |███▎                            | 40 kB 10.1 MB/s eta 0:00:01\r\u001b[K     |████▏                           | 51 kB 5.6 MB/s eta 0:00:01\r\u001b[K     |█████                           | 61 kB 6.0 MB/s eta 0:00:01\r\u001b[K     |█████▊                          | 71 kB 5.8 MB/s eta 0:00:01\r\u001b[K     |██████▋                         | 81 kB 6.6 MB/s eta 0:00:01\r\u001b[K     |███████▍                        | 92 kB 5.0 MB/s eta 0:00:01\r\u001b[K     |████████▎                       | 102 kB 5.4 MB/s eta 0:00:01\r\u001b[K     |█████████                       | 112 kB 5.4 MB/s eta 0:00:01\r\u001b[K     |██████████                      | 122 kB 5.4 MB/s eta 0:00:01\r\u001b[K     |██████████▊                     | 133 kB 5.4 MB/s eta 0:00:01\r\u001b[K     |███████████▌                    | 143 kB 5.4 MB/s eta 0:00:01\r\u001b[K     |████████████▍                   | 153 kB 5.4 MB/s eta 0:00:01\r\u001b[K     |█████████████▏                  | 163 kB 5.4 MB/s eta 0:00:01\r\u001b[K     |██████████████                  | 174 kB 5.4 MB/s eta 0:00:01\r\u001b[K     |██████████████▉                 | 184 kB 5.4 MB/s eta 0:00:01\r\u001b[K     |███████████████▊                | 194 kB 5.4 MB/s eta 0:00:01\r\u001b[K     |████████████████▌               | 204 kB 5.4 MB/s eta 0:00:01\r\u001b[K     |█████████████████▎              | 215 kB 5.4 MB/s eta 0:00:01\r\u001b[K     |██████████████████▏             | 225 kB 5.4 MB/s eta 0:00:01\r\u001b[K     |███████████████████             | 235 kB 5.4 MB/s eta 0:00:01\r\u001b[K     |███████████████████▉            | 245 kB 5.4 MB/s eta 0:00:01\r\u001b[K     |████████████████████▋           | 256 kB 5.4 MB/s eta 0:00:01\r\u001b[K     |█████████████████████▌          | 266 kB 5.4 MB/s eta 0:00:01\r\u001b[K     |██████████████████████▎         | 276 kB 5.4 MB/s eta 0:00:01\r\u001b[K     |███████████████████████         | 286 kB 5.4 MB/s eta 0:00:01\r\u001b[K     |████████████████████████        | 296 kB 5.4 MB/s eta 0:00:01\r\u001b[K     |████████████████████████▊       | 307 kB 5.4 MB/s eta 0:00:01\r\u001b[K     |█████████████████████████▋      | 317 kB 5.4 MB/s eta 0:00:01\r\u001b[K     |██████████████████████████▍     | 327 kB 5.4 MB/s eta 0:00:01\r\u001b[K     |███████████████████████████▎    | 337 kB 5.4 MB/s eta 0:00:01\r\u001b[K     |████████████████████████████    | 348 kB 5.4 MB/s eta 0:00:01\r\u001b[K     |████████████████████████████▉   | 358 kB 5.4 MB/s eta 0:00:01\r\u001b[K     |█████████████████████████████▊  | 368 kB 5.4 MB/s eta 0:00:01\r\u001b[K     |██████████████████████████████▌ | 378 kB 5.4 MB/s eta 0:00:01\r\u001b[K     |███████████████████████████████▍| 389 kB 5.4 MB/s eta 0:00:01\r\u001b[K     |████████████████████████████████| 397 kB 5.4 MB/s \n",
            "\u001b[?25hRequirement already satisfied: networkx in /usr/local/lib/python3.7/dist-packages (from dit) (2.6.3)\n",
            "Requirement already satisfied: contextlib2 in /usr/local/lib/python3.7/dist-packages (from dit) (0.5.5)\n",
            "Requirement already satisfied: six>=1.4.0 in /usr/local/lib/python3.7/dist-packages (from dit) (1.15.0)\n",
            "Requirement already satisfied: scipy>=0.15.0 in /usr/local/lib/python3.7/dist-packages (from dit) (1.4.1)\n",
            "Requirement already satisfied: numpy>=1.11 in /usr/local/lib/python3.7/dist-packages (from dit) (1.19.5)\n",
            "Collecting boltons\n",
            "  Downloading boltons-21.0.0-py2.py3-none-any.whl (193 kB)\n",
            "\u001b[K     |████████████████████████████████| 193 kB 48.4 MB/s \n",
            "\u001b[?25hRequirement already satisfied: prettytable in /usr/local/lib/python3.7/dist-packages (from dit) (2.2.1)\n",
            "Collecting debtcollector\n",
            "  Downloading debtcollector-2.3.0-py3-none-any.whl (23 kB)\n",
            "Requirement already satisfied: importlib-metadata>=1.7.0 in /usr/local/lib/python3.7/dist-packages (from debtcollector->dit) (4.8.1)\n",
            "Collecting pbr!=2.1.0,>=2.0.0\n",
            "  Downloading pbr-5.6.0-py2.py3-none-any.whl (111 kB)\n",
            "\u001b[K     |████████████████████████████████| 111 kB 59.7 MB/s \n",
            "\u001b[?25hRequirement already satisfied: wrapt>=1.7.0 in /usr/local/lib/python3.7/dist-packages (from debtcollector->dit) (1.12.1)\n",
            "Requirement already satisfied: typing-extensions>=3.6.4 in /usr/local/lib/python3.7/dist-packages (from importlib-metadata>=1.7.0->debtcollector->dit) (3.7.4.3)\n",
            "Requirement already satisfied: zipp>=0.5 in /usr/local/lib/python3.7/dist-packages (from importlib-metadata>=1.7.0->debtcollector->dit) (3.6.0)\n",
            "Requirement already satisfied: wcwidth in /usr/local/lib/python3.7/dist-packages (from prettytable->dit) (0.2.5)\n",
            "Installing collected packages: pbr, debtcollector, boltons, dit\n",
            "Successfully installed boltons-21.0.0 debtcollector-2.3.0 dit-1.2.3 pbr-5.6.0\n"
          ]
        }
      ]
    },
    {
      "cell_type": "code",
      "metadata": {
        "id": "aL7y8YrnqHJd"
      },
      "source": [
        "import dit"
      ],
      "execution_count": null,
      "outputs": []
    },
    {
      "cell_type": "code",
      "metadata": {
        "id": "ywBYFmqkqKzv"
      },
      "source": [
        "from dit import Distribution"
      ],
      "execution_count": null,
      "outputs": []
    },
    {
      "cell_type": "code",
      "metadata": {
        "id": "JGKye6fgqWGR"
      },
      "source": [
        "pmf=[0.6,0.4]"
      ],
      "execution_count": null,
      "outputs": []
    },
    {
      "cell_type": "code",
      "metadata": {
        "colab": {
          "base_uri": "https://localhost:8080/"
        },
        "id": "m_ntwgn2quu_",
        "outputId": "eaef25a8-a1b5-4fc6-c688-c4f92b90f243"
      },
      "source": [
        "def information_calc(px):\n",
        "  return np.sum([-px*np.log2(px)for px in pmf])\n",
        "entropy_1=information_calc(pmf)\n",
        "print(f'Entropy value of this random experiment is {entropy_1} ')"
      ],
      "execution_count": null,
      "outputs": [
        {
          "output_type": "stream",
          "name": "stdout",
          "text": [
            "Entropy value of this random experiment is 0.9709505944546686 \n"
          ]
        }
      ]
    },
    {
      "cell_type": "code",
      "metadata": {
        "id": "5DCUCP_7rpON"
      },
      "source": [
        "from scipy.stats import entropy"
      ],
      "execution_count": null,
      "outputs": []
    },
    {
      "cell_type": "code",
      "metadata": {
        "colab": {
          "base_uri": "https://localhost:8080/"
        },
        "id": "qFRV1LU_twLV",
        "outputId": "6719737a-46d4-471b-e82c-f50d277dd20a"
      },
      "source": [
        "entropy(pmf, base=2)"
      ],
      "execution_count": null,
      "outputs": [
        {
          "output_type": "execute_result",
          "data": {
            "text/plain": [
              "0.9709505944546688"
            ]
          },
          "metadata": {},
          "execution_count": 15
        }
      ]
    },
    {
      "cell_type": "code",
      "metadata": {
        "id": "psE7MK-otyyq"
      },
      "source": [
        "d1 = Distribution.from_ndarray(pmf)"
      ],
      "execution_count": null,
      "outputs": []
    },
    {
      "cell_type": "code",
      "metadata": {
        "colab": {
          "base_uri": "https://localhost:8080/"
        },
        "id": "7Vb4dKa9t1f1",
        "outputId": "ef30e634-6c98-4844-eb44-40169a6ea935"
      },
      "source": [
        "print(d1)"
      ],
      "execution_count": null,
      "outputs": [
        {
          "output_type": "stream",
          "name": "stdout",
          "text": [
            "Class:          Distribution\n",
            "Alphabet:       (0, 1) for all rvs\n",
            "Base:           linear\n",
            "Outcome Class:  tuple\n",
            "Outcome Length: 1\n",
            "RV Names:       None\n",
            "\n",
            "x      p(x)\n",
            "(0,)   0.6\n",
            "(1,)   0.4\n"
          ]
        }
      ]
    },
    {
      "cell_type": "code",
      "metadata": {
        "colab": {
          "base_uri": "https://localhost:8080/"
        },
        "id": "Yy_3jHL8t5rJ",
        "outputId": "ce64a805-b0f5-4981-e93d-29a160cdd78a"
      },
      "source": [
        "dit.shannon.entropy_pmf(pmf)"
      ],
      "execution_count": null,
      "outputs": [
        {
          "output_type": "execute_result",
          "data": {
            "text/plain": [
              "0.9709505944546686"
            ]
          },
          "metadata": {},
          "execution_count": 18
        }
      ]
    },
    {
      "cell_type": "code",
      "metadata": {
        "id": "q2f2M3Dqt8hC"
      },
      "source": [
        "def joint_entropy(pxy):\n",
        "  return np.sum(-pxy*np.log2(pxy))\n",
        "entropy_2 = joint_entropy(np.array([[0.2, 0.3], [0.1, 0.4]]))"
      ],
      "execution_count": null,
      "outputs": []
    },
    {
      "cell_type": "code",
      "metadata": {
        "colab": {
          "base_uri": "https://localhost:8080/"
        },
        "id": "I6W51Hy4wBcv",
        "outputId": "1a79a563-d832-4d62-d0c4-223e79aa9a11"
      },
      "source": [
        "entropy_2"
      ],
      "execution_count": null,
      "outputs": [
        {
          "output_type": "execute_result",
          "data": {
            "text/plain": [
              "1.8464393446710154"
            ]
          },
          "metadata": {},
          "execution_count": 29
        }
      ]
    },
    {
      "cell_type": "code",
      "metadata": {
        "id": "RMqFcGHNwaPa"
      },
      "source": [
        "d2 = Distribution.from_ndarray([[0.2, 0.3], [0.1, 0.4]])"
      ],
      "execution_count": null,
      "outputs": []
    },
    {
      "cell_type": "code",
      "metadata": {
        "colab": {
          "base_uri": "https://localhost:8080/"
        },
        "id": "cdmpNBEiwdbh",
        "outputId": "c0a05696-bbad-4ba3-aa0a-9504c6b5ac49"
      },
      "source": [
        "print(d2)"
      ],
      "execution_count": null,
      "outputs": [
        {
          "output_type": "stream",
          "name": "stdout",
          "text": [
            "Class:          Distribution\n",
            "Alphabet:       (0, 1) for all rvs\n",
            "Base:           linear\n",
            "Outcome Class:  tuple\n",
            "Outcome Length: 2\n",
            "RV Names:       None\n",
            "\n",
            "x        p(x)\n",
            "(0, 0)   0.2\n",
            "(0, 1)   0.3\n",
            "(1, 0)   0.1\n",
            "(1, 1)   0.4\n"
          ]
        }
      ]
    },
    {
      "cell_type": "code",
      "metadata": {
        "colab": {
          "base_uri": "https://localhost:8080/"
        },
        "id": "XMEGVTYPwf0z",
        "outputId": "a440ee52-53dc-499e-d8d3-dc0f0a1f0c4a"
      },
      "source": [
        "dit.shannon.entropy(d2)"
      ],
      "execution_count": null,
      "outputs": [
        {
          "output_type": "execute_result",
          "data": {
            "text/plain": [
              "1.8464393446710154"
            ]
          },
          "metadata": {},
          "execution_count": 32
        }
      ]
    },
    {
      "cell_type": "code",
      "metadata": {
        "id": "LadRtdwQw1W2"
      },
      "source": [
        "def conditional_information(pxy,px):\n",
        "  p_y_given_x=pxy/px\n",
        "  return np.sum(-pxy*np.log2(p_y_given_x))\n",
        "entropy_3 = conditional_information(np.array([[0.2, 0.3], [0.1, 0.4]]), np.array([0.2, 0.8]))"
      ],
      "execution_count": null,
      "outputs": []
    },
    {
      "cell_type": "code",
      "metadata": {
        "colab": {
          "base_uri": "https://localhost:8080/"
        },
        "id": "E6yB7152zG_j",
        "outputId": "9a921e34-6311-4e53-b568-9492d4f784f6"
      },
      "source": [
        "entropy_3\n"
      ],
      "execution_count": null,
      "outputs": [
        {
          "output_type": "execute_result",
          "data": {
            "text/plain": [
              "0.9245112497836532"
            ]
          },
          "metadata": {},
          "execution_count": 36
        }
      ]
    },
    {
      "cell_type": "code",
      "metadata": {
        "id": "CvBcuulP0LnP"
      },
      "source": [
        "def mutual_information(pxy,px,py):\n",
        "  return np.sum(pxy*np.log2(pxy/(px*py)))\n",
        "entropy_4 = mutual_information(np.array([[0.2, 0.3], [0.10, 0.4]]), np.array([0.2, 0.8]),np.array([0.4,0.6]))\n"
      ],
      "execution_count": null,
      "outputs": []
    },
    {
      "cell_type": "code",
      "metadata": {
        "colab": {
          "base_uri": "https://localhost:8080/"
        },
        "id": "xQNLRAZj0n-c",
        "outputId": "01189bad-2d23-4150-e823-ef84f4eff0f6"
      },
      "source": [
        "entropy_4"
      ],
      "execution_count": null,
      "outputs": [
        {
          "output_type": "execute_result",
          "data": {
            "text/plain": [
              "-0.012056905401100174"
            ]
          },
          "metadata": {},
          "execution_count": 47
        }
      ]
    },
    {
      "cell_type": "code",
      "metadata": {
        "id": "6y2X4vIM74vO"
      },
      "source": [
        ""
      ],
      "execution_count": null,
      "outputs": []
    }
  ]
}