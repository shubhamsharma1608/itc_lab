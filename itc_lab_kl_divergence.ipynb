{
  "nbformat": 4,
  "nbformat_minor": 0,
  "metadata": {
    "colab": {
      "name": "itc-lab-kl-divergence.ipynb",
      "provenance": [],
      "authorship_tag": "ABX9TyNLmXvxReILfkgrbDwBNGI+",
      "include_colab_link": true
    },
    "kernelspec": {
      "name": "python3",
      "display_name": "Python 3"
    },
    "language_info": {
      "name": "python"
    }
  },
  "cells": [
    {
      "cell_type": "markdown",
      "metadata": {
        "id": "view-in-github",
        "colab_type": "text"
      },
      "source": [
        "<a href=\"https://colab.research.google.com/github/shubhamsharma1608/itc_lab/blob/main/itc_lab_kl_divergence.ipynb\" target=\"_parent\"><img src=\"https://colab.research.google.com/assets/colab-badge.svg\" alt=\"Open In Colab\"/></a>"
      ]
    },
    {
      "cell_type": "code",
      "metadata": {
        "id": "6hlgg0pZ20T4"
      },
      "source": [
        "import numpy as np\n",
        "import pandas as pd\n",
        "import matplotlib.pyplot as plt\n",
        "import seaborn as sns"
      ],
      "execution_count": null,
      "outputs": []
    },
    {
      "cell_type": "code",
      "metadata": {
        "id": "jP6zX0p44YJk"
      },
      "source": [
        "p = [0.5, 0.4, 0.1]\n",
        "q = [0.4, 0.4, 0.2]\n",
        "r = [0.01, 0.01, 0.98]"
      ],
      "execution_count": null,
      "outputs": []
    },
    {
      "cell_type": "code",
      "metadata": {
        "colab": {
          "base_uri": "https://localhost:8080/",
          "height": 265
        },
        "id": "szofq_nN4rPi",
        "outputId": "6867efa6-eafc-4cab-9d08-7513f58a3bac"
      },
      "source": [
        "wording = ['w1', 'w2', 'w3']\n",
        "plt.subplot(2,1,1)\n",
        "plt.bar(wording, p)\n",
        "plt.subplot(2,1,2)\n",
        "plt.bar(wording, q)\n",
        "plt.show()"
      ],
      "execution_count": null,
      "outputs": [
        {
          "output_type": "display_data",
          "data": {
            "image/png": "[encoded data removed]",
            "text/plain": [
              "<Figure size 432x288 with 2 Axes>"
            ]
          },
          "metadata": {
            "needs_background": "light"
          }
        }
      ]
    },
    {
      "cell_type": "code",
      "metadata": {
        "id": "YfCbHfzb4uXT"
      },
      "source": [
        "def KL_divergence(p, q):\n",
        "  return np.nansum([p[i]* np.log2(p[i]/q[i]) for i in range(len(p))])"
      ],
      "execution_count": null,
      "outputs": []
    },
    {
      "cell_type": "code",
      "metadata": {
        "colab": {
          "base_uri": "https://localhost:8080/"
        },
        "id": "6zGuCUgm4w51",
        "outputId": "8e4faa18-a924-4a29-92fd-db978878cda4"
      },
      "source": [
        "KL_divergence(p,q)"
      ],
      "execution_count": null,
      "outputs": [
        {
          "output_type": "execute_result",
          "data": {
            "text/plain": [
              "0.06096404744368117"
            ]
          },
          "metadata": {},
          "execution_count": 23
        }
      ]
    },
    {
      "cell_type": "code",
      "metadata": {
        "colab": {
          "base_uri": "https://localhost:8080/"
        },
        "id": "uCxfNF3n4zEZ",
        "outputId": "44fb0621-a596-438a-926c-4a2ee7f069d3"
      },
      "source": [
        "KL_divergence(p, r)\n"
      ],
      "execution_count": null,
      "outputs": [
        {
          "output_type": "execute_result",
          "data": {
            "text/plain": [
              "4.621421157919523"
            ]
          },
          "metadata": {},
          "execution_count": 24
        }
      ]
    },
    {
      "cell_type": "code",
      "metadata": {
        "id": "SCXcKtSY41Ph",
        "colab": {
          "base_uri": "https://localhost:8080/"
        },
        "outputId": "ab814965-721c-44a3-8a75-6572787dcb6a"
      },
      "source": [
        "pip install dit"
      ],
      "execution_count": null,
      "outputs": [
        {
          "output_type": "stream",
          "name": "stdout",
          "text": [
            "Collecting dit\n",
            "  Downloading dit-1.2.3-py2.py3-none-any.whl (397 kB)\n",
            "\u001b[K     |████████████████████████████████| 397 kB 4.2 MB/s \n",
            "\u001b[?25hRequirement already satisfied: numpy>=1.11 in /usr/local/lib/python3.7/dist-packages (from dit) (1.19.5)\n",
            "Requirement already satisfied: contextlib2 in /usr/local/lib/python3.7/dist-packages (from dit) (0.5.5)\n",
            "Requirement already satisfied: networkx in /usr/local/lib/python3.7/dist-packages (from dit) (2.6.3)\n",
            "Requirement already satisfied: prettytable in /usr/local/lib/python3.7/dist-packages (from dit) (2.4.0)\n",
            "Collecting boltons\n",
            "  Downloading boltons-21.0.0-py2.py3-none-any.whl (193 kB)\n",
            "\u001b[K     |████████████████████████████████| 193 kB 52.6 MB/s \n",
            "\u001b[?25hRequirement already satisfied: six>=1.4.0 in /usr/local/lib/python3.7/dist-packages (from dit) (1.15.0)\n",
            "Requirement already satisfied: scipy>=0.15.0 in /usr/local/lib/python3.7/dist-packages (from dit) (1.4.1)\n",
            "Collecting debtcollector\n",
            "  Downloading debtcollector-2.3.0-py3-none-any.whl (23 kB)\n",
            "Requirement already satisfied: wrapt>=1.7.0 in /usr/local/lib/python3.7/dist-packages (from debtcollector->dit) (1.13.3)\n",
            "Collecting pbr!=2.1.0,>=2.0.0\n",
            "  Downloading pbr-5.7.0-py2.py3-none-any.whl (112 kB)\n",
            "\u001b[K     |████████████████████████████████| 112 kB 52.9 MB/s \n",
            "\u001b[?25hRequirement already satisfied: importlib-metadata>=1.7.0 in /usr/local/lib/python3.7/dist-packages (from debtcollector->dit) (4.8.2)\n",
            "Requirement already satisfied: zipp>=0.5 in /usr/local/lib/python3.7/dist-packages (from importlib-metadata>=1.7.0->debtcollector->dit) (3.6.0)\n",
            "Requirement already satisfied: typing-extensions>=3.6.4 in /usr/local/lib/python3.7/dist-packages (from importlib-metadata>=1.7.0->debtcollector->dit) (3.10.0.2)\n",
            "Requirement already satisfied: wcwidth in /usr/local/lib/python3.7/dist-packages (from prettytable->dit) (0.2.5)\n",
            "Installing collected packages: pbr, debtcollector, boltons, dit\n",
            "Successfully installed boltons-21.0.0 debtcollector-2.3.0 dit-1.2.3 pbr-5.7.0\n"
          ]
        }
      ]
    },
    {
      "cell_type": "code",
      "metadata": {
        "id": "01WK9iqJ5zZB"
      },
      "source": [
        "from dit import Distribution\n",
        "import dit"
      ],
      "execution_count": null,
      "outputs": []
    },
    {
      "cell_type": "code",
      "metadata": {
        "id": "yAusckIk58PC"
      },
      "source": [
        "d1=Distribution.from_ndarray(p)\n",
        "d2=Distribution.from_ndarray(q)\n",
        "d3=Distribution.from_ndarray(r)"
      ],
      "execution_count": null,
      "outputs": []
    },
    {
      "cell_type": "code",
      "metadata": {
        "colab": {
          "base_uri": "https://localhost:8080/"
        },
        "id": "P0Wanv1Z6U_Q",
        "outputId": "6c88d178-c9f4-4b88-8440-9c504f8355e0"
      },
      "source": [
        "dit.divergences.kullback_leibler_divergence(d1,d2)"
      ],
      "execution_count": null,
      "outputs": [
        {
          "output_type": "execute_result",
          "data": {
            "text/plain": [
              "0.06096404744368078"
            ]
          },
          "metadata": {},
          "execution_count": 14
        }
      ]
    },
    {
      "cell_type": "code",
      "metadata": {
        "colab": {
          "base_uri": "https://localhost:8080/"
        },
        "id": "1JUtWn6S6eE1",
        "outputId": "9555e064-fa0c-4d12-ba5b-3274c6038a63"
      },
      "source": [
        "dit.divergences.kullback_leibler_divergence(d1,d3)"
      ],
      "execution_count": null,
      "outputs": [
        {
          "output_type": "execute_result",
          "data": {
            "text/plain": [
              "4.621421157919523"
            ]
          },
          "metadata": {},
          "execution_count": 15
        }
      ]
    },
    {
      "cell_type": "code",
      "metadata": {
        "id": "bxx-bFic6lzb"
      },
      "source": [
        "s=np.random.normal(0,1, size=1000)"
      ],
      "execution_count": null,
      "outputs": []
    },
    {
      "cell_type": "code",
      "metadata": {
        "id": "gEmcx2lu7nBk"
      },
      "source": [
        "t=np.random.normal(-1,1, size=1000)"
      ],
      "execution_count": null,
      "outputs": []
    },
    {
      "cell_type": "code",
      "metadata": {
        "colab": {
          "base_uri": "https://localhost:8080/"
        },
        "id": "SCrhvnCA7xxP",
        "outputId": "fdf7597b-3930-4cb1-88a1-ff0ac9fa8974"
      },
      "source": [
        "KL_divergence(s,t)"
      ],
      "execution_count": null,
      "outputs": [
        {
          "output_type": "execute_result",
          "data": {
            "text/plain": [
              "30.88553554672658"
            ]
          },
          "metadata": {},
          "execution_count": 25
        }
      ]
    },
    {
      "cell_type": "code",
      "metadata": {
        "id": "b9y3QQhY8Frw"
      },
      "source": [
        "def cross_entropy(p,q):\n",
        "  return -np.sum([p[i]*np.log2(q[i])for i in range(len(p))])"
      ],
      "execution_count": null,
      "outputs": []
    },
    {
      "cell_type": "code",
      "metadata": {
        "colab": {
          "base_uri": "https://localhost:8080/"
        },
        "id": "8LEezGO5-Uqm",
        "outputId": "df6059ac-a522-4b10-b7db-ee9d64842789"
      },
      "source": [
        "cross_entropy(p,q)"
      ],
      "execution_count": null,
      "outputs": [
        {
          "output_type": "execute_result",
          "data": {
            "text/plain": [
              "1.421928094887362"
            ]
          },
          "metadata": {},
          "execution_count": 40
        }
      ]
    },
    {
      "cell_type": "code",
      "metadata": {
        "colab": {
          "base_uri": "https://localhost:8080/"
        },
        "id": "LusD42ZY-dOG",
        "outputId": "6199edd5-0f28-4301-d86f-6aba3c082491"
      },
      "source": [
        "dit.divergences.cross_entropy(d1,d2)"
      ],
      "execution_count": null,
      "outputs": [
        {
          "output_type": "execute_result",
          "data": {
            "text/plain": [
              "1.421928094887362"
            ]
          },
          "metadata": {},
          "execution_count": 38
        }
      ]
    },
    {
      "cell_type": "code",
      "metadata": {
        "id": "C6aodKY--piG"
      },
      "source": [
        "def entropy_calculation(p):\n",
        "  return -np.sum([p[i]*np.log2(q[i])for i in range(len(p))])"
      ],
      "execution_count": null,
      "outputs": []
    },
    {
      "cell_type": "code",
      "metadata": {
        "colab": {
          "base_uri": "https://localhost:8080/"
        },
        "id": "sgGOuXhC-ztB",
        "outputId": "98953717-4888-4299-ffab-fb48fbf3b770"
      },
      "source": [
        "entropy_calculation(p)"
      ],
      "execution_count": null,
      "outputs": [
        {
          "output_type": "execute_result",
          "data": {
            "text/plain": [
              "1.421928094887362"
            ]
          },
          "metadata": {},
          "execution_count": 42
        }
      ]
    },
    {
      "cell_type": "code",
      "metadata": {
        "id": "6ywYX7uJ-2lz"
      },
      "source": [
        "def cross_entropy_another(p,q):\n",
        "  return entropy_calculation(p) + KL_divergence(p,q)"
      ],
      "execution_count": null,
      "outputs": []
    },
    {
      "cell_type": "code",
      "metadata": {
        "colab": {
          "base_uri": "https://localhost:8080/"
        },
        "id": "-yHUhy9_-_97",
        "outputId": "916e114f-6319-46c0-c42e-dc3ab073a62b"
      },
      "source": [
        "cross_entropy_another(p,q)"
      ],
      "execution_count": null,
      "outputs": [
        {
          "output_type": "execute_result",
          "data": {
            "text/plain": [
              "1.4828921423310433"
            ]
          },
          "metadata": {},
          "execution_count": 44
        }
      ]
    }
  ]
}